{
 "cells": [
  {
   "cell_type": "code",
   "execution_count": 1,
   "metadata": {},
   "outputs": [],
   "source": [
    "def bstrxor(a, b):\n",
    "    return bytes(x ^ y for (x, y) in zip(a, b))\n",
    "# strxor takes two hex strings and returns the xor’d output as a bytestring\n",
    "def strxor(a, b):\n",
    "    return bstrxor(bytes.fromhex(a), bytes.fromhex(b))"
   ]
  },
  {
   "cell_type": "code",
   "execution_count": 48,
   "metadata": {},
   "outputs": [],
   "source": [
    "c0 = \"167c7f4fff941dea1b0b97f49e6d51fea7878c281f8d981e4fb358051eefac10c140327c77ad640bed157fa1c93717485d777d916be782732095fee4c21ca0ea56f248a5b8a0398950f38117877c1ac8b17f758af1e0f08e26b5e86d28137b\"\n",
    "c1 = \"177d3349e5cb49a70e4292f0d37c1eb7bdc9b71e26aedd5d1bb35f0408efba55c04c30747cf93e4497507cb09b251d514a6b7d946ba18f6e2299b0fa8d1defa256f70dc9b0ee6cd107f59c538b605cdbbc3c21d9c2cfdc8044f2a8367e1d3a\"\n",
    "c2 = \"11777f48e5950cea1804dce2cb7a56feb8889f3808c79b1249fe4b060daaed51df0f0b717cf91842dd156af5bd21586a406036c32eee95210693b0c6830ba7ea63e90dc986a6239d15baa0529d6756daf073678adec7d68e26bde47725413a\"\n",
    "c3 = \"7f387f05aab001ab03428bf49e694cb1ad85992400c7dd5d52e01e3e04aaed62c548376d398d250bed1872b9c40c1d5441757dc359e48b6d7fbef5ea8c0fefac58f348a8bda26dd15dbaa65f8b3279c1be6d74cfc5da85c10cfcc46a355270\"\n",
    "c4 = \"1b777f5ce59249ab1b0edce5d67050b5ee9d902c19c7891552e01e0904aea35ec9437f7178aa6a49df1870f58b3c1d5c4c7a388731a1a9603adcfff69048a3af5be0068df1bb229806ba914597624ec1f07b74d396c7d68e1eb3f6383f5534\"\n",
    "c5 = \"16767f51e28e1aea1a0d98f49e394ab6abc991230493941c57b3480f0fbba2428c66093970aa6a59df0d7bb49d2b1c515632388d6df39e712699f4a39607efa555f50980bfee2dd103ff861781741ad8b17074cfc58effc74abdf538365c78\"\n",
    "c6 = \"16757f56e5951bb3572f9de3d77612feac9c8c6d2ea8b32974c0714a3c9d847eef6a0c4a39b0390bd3133eb4c92a115b49772f8660f5c7673d8ef5f09649efe717d21f80b7ba039f23ff91429c7b4ed7f04860d3969c959f5ff1b62b7d012d\"\n",
    "c7 = \"1e6c7f4ae48249ba180b92e59e501ea9af9ad82908859c0952fd594a1ba7a844c44a2d3976ab6a45d5093ea1866e19594b32298b6ba1b24210b1d6c8ae3cefa958f11199b0bd389050f59c17867748cbf07e74de96e785c60baae338245c7b\"\n",
    "c8 = \"326d3c4daa940ca611428ef4cd695bbdbac7d8000c8c94135cb34c0b02aba25d8c43306b7cb46a42ca0e6bb8c9270b1d4e7129966fed8b78729db0ef8d1cefa256f30c8ca3ee389911f4d25880771ad9bf696dce96dacdc704b7a66c325b34\"\n",
    "t = \"18773041aa8b1ca91c4293ff9e6d56bbee84912919828f101ab36d1e19abb410c44e2d7d39b8244f9a1971f59e2b14510332248262edc7602099b0e4900daebe17f21c9cb5ab228503b7df408b324dc7a37421d3d9db85da02b9a67a354060\""
   ]
  },
  {
   "cell_type": "code",
   "execution_count": 11,
   "metadata": {},
   "outputs": [],
   "source": [
    "a = [c0, c1, c2, c3, c4, c5, c6, c7, c8]"
   ]
  },
  {
   "cell_type": "code",
   "execution_count": 88,
   "metadata": {},
   "outputs": [
    {
     "name": "stdout",
     "output_type": "stream",
     "text": [
      "['$', '\\x11', 'C', '\\x02', 'U', '\\x00', '\\x11', 'L', '\\n', 'I', '\\x19', '\\x00', 'S', '\\x04', '\\n', 'C', '\\x1d', '@', 'T', '(', '\\x13', '\\x01', '\\x0c', '\\r', '\\x13', '\\x00', '\\x14', '\\x0e', '\\x1c', 'D', '\\x0e', 'M', 'M', '\\x03', '\\x02', '\\x17', '\\x0b', '\\x19', '\\x0e', 'I', \"'\", '\\x1b', '\\x14', '\\x19', '\\x00', '\\x10', '\\x1c', 'U', '\\x13', '\\x06', 'T', '\\x07', '\\x04', '\\n', '\\t', '\\x0b', 'R', '\\x08', 'N', '\\x0b', 'O', '\\x00', 'O', 'H', '\\x00', '\\x01', 'D', ')', '\\x1b', 'N', '\\x01', '\\x10', 'A', '\\x07', 'S', 'O', '\\x07', '\\x0b', '\\x00', '\\x11', '\\x0e', '\\x16', '\\x18', 'D', 'g', ':', '=', 'I', '\"', '\\x02', 'N', '\\x01', '\\x1a', 'H', 'O']\n",
      "\n",
      "['%', '\\x10', '\\x0f', '\\x04', 'O', '_', 'E', '\\x01', '\\x1f', '\\x00', '\\x1c', '\\x04', '\\x1e', '\\x15', 'E', '\\n', '\\x07', '\\x0e', 'o', '\\x1e', '*', '\"', 'I', 'N', 'G', '\\x00', '\\x13', '\\x0f', '\\n', 'D', '\\x18', '\\x08', 'L', '\\x0f', '\\x00', '\\x1f', '\\x00', 'M', 'T', '\\x06', ']', '^', '\\x17', '\\x08', 'R', '\\x02', '\\x16', 'L', '\\x04', '\\x1a', 'T', '\\x02', '\\x04', 'L', '\\x04', '\\x16', 'P', '\\x04', '\\x00', '\\x15', '\\x00', '\\x01', '\\x00', '\\x00', '\\x00', '\\x04', '\\x01', 'E', '\\x13', '\\x00', 'T', 'H', '\\x16', '\\x01', 'N', '\\x0b', '\\x0b', '\\x17', 'F', '\\x02', '\\x03', 'U', 'L', '\\x17', 'T', '\\x15', '\\x11', 'G', '@', 'E', '\\x0e', 'Z', 'L', 'F', '\\x0e']\n",
      "\n",
      "['#', '\\x1a', 'C', '\\x05', 'O', '\\x01', '\\x00', 'L', '\\t', 'F', 'R', '\\x16', '\\x06', '\\x13', '\\r', 'C', '\\x02', 'O', 'G', '8', '\\x04', 'K', '\\x0f', '\\x01', '\\x15', 'M', '\\x07', '\\r', '\\x0f', '\\x01', 'O', '\\x0c', 'S', 'L', ';', '\\x1a', '\\x00', 'M', 'r', '\\x00', '\\x17', '\\x1b', '\\x01', 'M', 't', '\\x06', 'S', 'w', '\\x0e', '\\x11', '\\x1f', 'U', 'A', '\\x03', '\\x1e', 'Y', 't', '\\x0e', '\\x00', ')', '\\x0e', '\\x17', 'H', 'H', '5', '\\x1a', '\\x01', 'E', '%', 'H', '\\x1b', '\\x04', '\\x04', 'N', 'r', '\\n', '\\x1d', '\\x10', 'L', '\\x03', 'O', '\\x1a', '\\n', 'D', 'H', '\\x1d', '\\x1b', 'I', '\"', '\\n', 'B', '\\x1b', '\\x17', '\\x1a', '\\x0e']\n",
      "\n",
      "['M', 'U', 'C', 'H', '\\x00', '$', '\\r', '\\r', '\\x12', '\\x00', '\\x05', '\\x00', 'S', '\\x00', '\\x17', '\\x0c', '\\x17', 'B', 'A', '$', '\\x0c', 'K', 'I', 'N', '\\x0e', 'S', 'R', '5', '\\x06', '\\x01', 'O', '?', 'I', '\\x0b', '\\x07', '\\x06', 'E', '9', 'O', 'I', \"'\", '\\x16', '\\x19', '\\x01', '\\r', '+', '\\x16', 'I', '\\x0f', '\\x04', 'T', 'U', '6', '\\t', '\\x00', '\\x15', '\\r', '#', 'E', '\\x05', '\\x01', '\\x13', '\\x00', '\\x0e', '\\x0e', '\\x00', 'D', '$', '\\x1e', 'L', 'U', 'H', 'L', 'N', 't', '\\x07', '\\x0b', 'E', 'c', '\\x18', '\\x01', '\\x04', '\\x19', '\\x01', 'S', '\\x00', 'H', '\\x06', '\\x08', 'K', 'b', '\\x06', '\\x07', '\\t', 'D']\n",
      "\n",
      "[')', '\\x1a', 'C', '\\x11', 'O', '\\x06', 'E', '\\r', '\\n', 'L', 'R', '\\x11', '\\x1b', '\\x19', '\\x0b', '\\x08', 'T', 'Z', 'H', ',', '\\x15', 'K', '\\x1d', '\\x06', '\\x0e', 'S', 'R', '\\x02', '\\x06', '\\x05', '\\x01', '\\x03', 'E', '\\x00', 'O', '\\x1a', '\\x04', '\\x1e', '\\x00', '\\x0b', '\\x15', '\\x16', '\\x1b', 'M', 'B', '\\x1b', '\\x16', 'A', '\\x02', '\\x0b', '\\x11', '\\x11', '^', 'L', '\"', '\\x18', 'H', 'A', 'O', '\\x19', '\\x1d', 'T', 'L', '\\r', '\\r', '\\x13', '\\n', '\\x01', 'R', 'U', '\\x1a', '\\x01', '\\x17', 'N', 'C', '\\x1d', '\\x17', '\\x15', 'T', '\\x18', 'O', '\\x12', '\\x19', '\\x1d', '\\x00', '\\x1d', '\\x1b', 'I', '\\x1a', '\\x04', 'P', 'T', '\\r', '\\x0e', '\\x00']\n",
      "\n",
      "['$', '\\x1b', 'C', '\\x1c', 'H', '\\x1a', '\\x16', 'L', '\\x0b', 'O', '\\x16', '\\x00', 'S', 'P', '\\x11', '\\x0b', '\\x11', '\\x0e', 'I', '#', '\\x08', '\\x1f', '\\x00', '\\x0f', '\\x0b', '\\x00', '\\x04', '\\x04', '\\r', '\\x10', '\\x00', '\\x1f', '\\x00', '%', '9', 'R', '\\x0c', '\\x1e', '\\x00', '\\x1b', '\\x15', '\\x03', '\\x10', '\\x0c', 'T', '\\x0c', '\\x17', 'L', '\\x18', 'C', '\\x11', '\\x1b', '\\x02', '\\x1e', '\\x15', '\\t', 'T', '\\x04', 'D', 'L', '\\x1b', '\\x1b', '\\x00', '\\x07', '\\x03', '\\x06', '\\x05', '\\x0c', '\\x1c', '\\x00', '\\x15', 'H', '\\x12', '\\x0b', 'T', 'O', '\\x01', '\\x03', '\\x00', '\\x01', '\\x0e', '\\x19', '\\x19', '\\x01', 'S', 'T', '2', '\\x00', 'N', '\\n', 'S', 'T', '\\x04', '\\x07', 'L']\n",
      "\n",
      "['$', '\\x18', 'C', '\\x1b', 'O', '\\x01', '\\x17', '\\x15', 'F', 'm', '\\x13', '\\x17', '\\x1a', '\\x1f', 'I', 'C', '\\x16', '[', 'T', 'm', '\"', '$', \"'\", ':', '(', 's', '=', 'A', '>', '6', '&', '#', 'c', ')', '<', '!', 'E', '\\x04', 'S', 'I', '\\x19', '\\x1d', 'U', '\\x0c', '\\x00', '\\r', '\\x1a', 'F', '\\x07', '\\x06', '\\x06', '\\x10', '\\x0f', '\\x18', 'L', '\\x1f', 'O', '\\x13', 'E', '\\x1f', '\\x1b', 'U', '\\x00', 'E', 'A', '!', '\\x13', '\\x0c', '\\x14', 'T', ';', '\\x06', '2', '\\x0b', 'C', '\\x1a', '\\x1c', '\\x0c', 'T', '\\x0e', 'O', '!', '\\r', '\\x1d', '\\x00', 'F', 'X', 'X', '[', 'F', '\\x10', 'G', 'O', 'Z', '\\x19']\n",
      "\n",
      "[',', '\\x01', 'C', '\\x07', 'N', '\\x16', 'E', '\\x1c', '\\t', 'I', '\\x1c', '\\x11', 'S', '9', 'E', '\\x14', '\\x15', ']', '\\x00', ')', '\\x04', '\\t', '\\x08', '\\x1a', '\\x0e', 'N', '\\x15', 'A', '\\x19', '\\x0c', '\\n', '\\x19', 'H', '\\t', '\\x1d', 'R', '\\n', '\\x1f', '\\x00', '\\x07', '\\x1f', '\\x07', 'U', '\\x19', 'O', 'I', '\\x12', 'D', '\\x05', 'C', '\\x00', '\\x1d', '\\x04', 'L', '9', ':', 'b', ',', 'f', \"'\", '#', ' ', '\\x00', '\\x0b', '\\x0e', '\\x02', '\\x1d', '\\x15', '\\x13', 'S', '\\x00', '\\t', 'A', '\\x01', 'N', 'O', '\\x06', '\\x00', 'R', '\\x12', 'O', '\\x17', '\\x19', '\\x10', '\\x00', '=', 'H', '\\x01', '\\x0f', '\\x1d', 'E', 'T', '\\x16', '\\x07', 'O']\n",
      "\n",
      "['\\x00', '\\x00', '\\x00', '\\x00', '\\x00', '\\x00', '\\x00', '\\x00', '\\x00', '\\x00', '\\x00', '\\x00', '\\x00', '\\x00', '\\x00', '\\x00', '\\x00', '\\x00', '\\x00', '\\x00', '\\x00', '\\x00', '\\x00', '\\x00', '\\x00', '\\x00', '\\x00', '\\x00', '\\x00', '\\x00', '\\x00', '\\x00', '\\x00', '\\x00', '\\x00', '\\x00', '\\x00', '\\x00', '\\x00', '\\x00', '\\x00', '\\x00', '\\x00', '\\x00', '\\x00', '\\x00', '\\x00', '\\x00', '\\x00', '\\x00', '\\x00', '\\x00', '\\x00', '\\x00', '\\x00', '\\x00', '\\x00', '\\x00', '\\x00', '\\x00', '\\x00', '\\x00', '\\x00', '\\x00', '\\x00', '\\x00', '\\x00', '\\x00', '\\x00', '\\x00', '\\x00', '\\x00', '\\x00', '\\x00', '\\x00', '\\x00', '\\x00', '\\x00', '\\x00', '\\x00', '\\x00', '\\x00', '\\x00', '\\x00', '\\x00', '\\x00', '\\x00', '\\x00', '\\x00', '\\x00', '\\x00', '\\x00', '\\x00', '\\x00', '\\x00']\n",
      "\n"
     ]
    }
   ],
   "source": [
    "for c in a:\n",
    "    s = str(strxor(c, c8).decode(\"ascii\"))\n",
    "    print(list(s))\n",
    "    print(\"\")\n",
    "\n"
   ]
  },
  {
   "cell_type": "code",
   "execution_count": 52,
   "metadata": {},
   "outputs": [
    {
     "data": {
      "text/plain": [
       "10"
      ]
     },
     "execution_count": 52,
     "metadata": {},
     "output_type": "execute_result"
    }
   ],
   "source": [
    "len(strxor(b\"a   hel,lo\".hex(), b\"a             byebyebye\".hex()).decode(\"ascii\"))"
   ]
  },
  {
   "cell_type": "code",
   "execution_count": 83,
   "metadata": {},
   "outputs": [
    {
     "data": {
      "text/plain": [
       "'4d'"
      ]
     },
     "execution_count": 83,
     "metadata": {},
     "output_type": "execute_result"
    }
   ],
   "source": [
    "bstrxor(b\"a\", b\",\").hex()"
   ]
  },
  {
   "cell_type": "code",
   "execution_count": 84,
   "metadata": {},
   "outputs": [
    {
     "data": {
      "text/plain": [
       "'20'"
      ]
     },
     "execution_count": 84,
     "metadata": {},
     "output_type": "execute_result"
    }
   ],
   "source": [
    "b\" \".hex()"
   ]
  },
  {
   "cell_type": "code",
   "execution_count": 85,
   "metadata": {},
   "outputs": [
    {
     "data": {
      "text/plain": [
       "'41'"
      ]
     },
     "execution_count": 85,
     "metadata": {},
     "output_type": "execute_result"
    }
   ],
   "source": [
    "b\"A\".hex()"
   ]
  },
  {
   "cell_type": "code",
   "execution_count": 86,
   "metadata": {},
   "outputs": [
    {
     "data": {
      "text/plain": [
       "'61'"
      ]
     },
     "execution_count": 86,
     "metadata": {},
     "output_type": "execute_result"
    }
   ],
   "source": [
    "b\"a\".hex()"
   ]
  },
  {
   "cell_type": "code",
   "execution_count": null,
   "metadata": {},
   "outputs": [],
   "source": [
    "#==== 128 A"
   ]
  }
 ],
 "metadata": {
  "kernelspec": {
   "display_name": "Python 3",
   "language": "python",
   "name": "python3"
  },
  "language_info": {
   "codemirror_mode": {
    "name": "ipython",
    "version": 3
   },
   "file_extension": ".py",
   "mimetype": "text/x-python",
   "name": "python",
   "nbconvert_exporter": "python",
   "pygments_lexer": "ipython3",
   "version": "3.6.5"
  }
 },
 "nbformat": 4,
 "nbformat_minor": 2
}
